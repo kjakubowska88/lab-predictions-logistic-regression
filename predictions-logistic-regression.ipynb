{
 "cells": [
  {
   "cell_type": "code",
   "execution_count": null,
   "metadata": {},
   "outputs": [],
   "source": [
    "##sorry, it's not really finished, i got confused with it and tried to work on it, which made thigns even worse.."
   ]
  },
  {
   "cell_type": "code",
   "execution_count": 1,
   "metadata": {},
   "outputs": [
    {
     "name": "stdout",
     "output_type": "stream",
     "text": [
      "········\n"
     ]
    }
   ],
   "source": [
    "import pymysql\n",
    "from sqlalchemy import create_engine\n",
    "import pandas as pd\n",
    "import getpass  # To get the password without showing the input\n",
    "password = getpass.getpass()"
   ]
  },
  {
   "cell_type": "code",
   "execution_count": 2,
   "metadata": {},
   "outputs": [],
   "source": [
    "#getting data & first exploration"
   ]
  },
  {
   "cell_type": "code",
   "execution_count": 3,
   "metadata": {},
   "outputs": [],
   "source": [
    "connection_string = 'mysql+pymysql://root:' + password + '@localhost/sakila'\n",
    "engine = create_engine(connection_string)"
   ]
  },
  {
   "cell_type": "code",
   "execution_count": 4,
   "metadata": {},
   "outputs": [
    {
     "data": {
      "text/html": [
       "<div>\n",
       "<style scoped>\n",
       "    .dataframe tbody tr th:only-of-type {\n",
       "        vertical-align: middle;\n",
       "    }\n",
       "\n",
       "    .dataframe tbody tr th {\n",
       "        vertical-align: top;\n",
       "    }\n",
       "\n",
       "    .dataframe thead th {\n",
       "        text-align: right;\n",
       "    }\n",
       "</style>\n",
       "<table border=\"1\" class=\"dataframe\">\n",
       "  <thead>\n",
       "    <tr style=\"text-align: right;\">\n",
       "      <th></th>\n",
       "      <th>Rental_ID</th>\n",
       "      <th>times_rented</th>\n",
       "      <th>INV_ID</th>\n",
       "      <th>Customer_id</th>\n",
       "      <th>film_id</th>\n",
       "      <th>store_id</th>\n",
       "      <th>category_id</th>\n",
       "      <th>name</th>\n",
       "      <th>rental_duration</th>\n",
       "      <th>release_year</th>\n",
       "      <th>rating</th>\n",
       "      <th>special_features</th>\n",
       "    </tr>\n",
       "  </thead>\n",
       "  <tbody>\n",
       "    <tr>\n",
       "      <th>0</th>\n",
       "      <td>14625</td>\n",
       "      <td>1</td>\n",
       "      <td>2661</td>\n",
       "      <td>507</td>\n",
       "      <td>584</td>\n",
       "      <td>1</td>\n",
       "      <td>9</td>\n",
       "      <td>Foreign</td>\n",
       "      <td>6</td>\n",
       "      <td>2006</td>\n",
       "      <td>PG-13</td>\n",
       "      <td>Behind the Scenes</td>\n",
       "    </tr>\n",
       "    <tr>\n",
       "      <th>1</th>\n",
       "      <td>14009</td>\n",
       "      <td>2</td>\n",
       "      <td>3004</td>\n",
       "      <td>382</td>\n",
       "      <td>659</td>\n",
       "      <td>2</td>\n",
       "      <td>1</td>\n",
       "      <td>Action</td>\n",
       "      <td>3</td>\n",
       "      <td>2006</td>\n",
       "      <td>PG-13</td>\n",
       "      <td>Trailers,Deleted Scenes</td>\n",
       "    </tr>\n",
       "    <tr>\n",
       "      <th>2</th>\n",
       "      <td>13535</td>\n",
       "      <td>2</td>\n",
       "      <td>1563</td>\n",
       "      <td>86</td>\n",
       "      <td>343</td>\n",
       "      <td>1</td>\n",
       "      <td>3</td>\n",
       "      <td>Children</td>\n",
       "      <td>6</td>\n",
       "      <td>2006</td>\n",
       "      <td>PG</td>\n",
       "      <td>Trailers,Deleted Scenes</td>\n",
       "    </tr>\n",
       "    <tr>\n",
       "      <th>3</th>\n",
       "      <td>11673</td>\n",
       "      <td>2</td>\n",
       "      <td>823</td>\n",
       "      <td>303</td>\n",
       "      <td>180</td>\n",
       "      <td>2</td>\n",
       "      <td>4</td>\n",
       "      <td>Classics</td>\n",
       "      <td>4</td>\n",
       "      <td>2006</td>\n",
       "      <td>PG-13</td>\n",
       "      <td>Trailers,Commentaries</td>\n",
       "    </tr>\n",
       "    <tr>\n",
       "      <th>4</th>\n",
       "      <td>12318</td>\n",
       "      <td>2</td>\n",
       "      <td>3694</td>\n",
       "      <td>332</td>\n",
       "      <td>808</td>\n",
       "      <td>2</td>\n",
       "      <td>4</td>\n",
       "      <td>Classics</td>\n",
       "      <td>5</td>\n",
       "      <td>2006</td>\n",
       "      <td>R</td>\n",
       "      <td>Behind the Scenes</td>\n",
       "    </tr>\n",
       "  </tbody>\n",
       "</table>\n",
       "</div>"
      ],
      "text/plain": [
       "   Rental_ID  times_rented  INV_ID  Customer_id  film_id  store_id  \\\n",
       "0      14625             1    2661          507      584         1   \n",
       "1      14009             2    3004          382      659         2   \n",
       "2      13535             2    1563           86      343         1   \n",
       "3      11673             2     823          303      180         2   \n",
       "4      12318             2    3694          332      808         2   \n",
       "\n",
       "   category_id      name  rental_duration  release_year rating  \\\n",
       "0            9   Foreign                6          2006  PG-13   \n",
       "1            1    Action                3          2006  PG-13   \n",
       "2            3  Children                6          2006     PG   \n",
       "3            4  Classics                4          2006  PG-13   \n",
       "4            4  Classics                5          2006      R   \n",
       "\n",
       "          special_features  \n",
       "0        Behind the Scenes  \n",
       "1  Trailers,Deleted Scenes  \n",
       "2  Trailers,Deleted Scenes  \n",
       "3    Trailers,Commentaries  \n",
       "4        Behind the Scenes  "
      ]
     },
     "execution_count": 4,
     "metadata": {},
     "output_type": "execute_result"
    }
   ],
   "source": [
    "query1 = '''select r.rental_id as Rental_ID, count(r.rental_id) as times_rented, r.Inventory_id as INV_ID, r.Customer_id, i.film_id, i.store_id, c.category_id, c.name, f.rental_duration, f.release_year, f.rating, f.special_features from rental as r\n",
    "join inventory as i on i.inventory_id=r.inventory_id\n",
    "join film_category as fc on fc.film_id=i.film_id\n",
    "join category as c on c.category_id =fc.category_id\n",
    "join film as f on f.film_id = fc.film_id\n",
    "where rental_date >= 20050730 and rental_date <= 20050830\n",
    "group by i.film_id\n",
    "Order by times_rented ASC;'''\n",
    "\n",
    "df= pd.read_sql_query(query1, engine)\n",
    "df.head()"
   ]
  },
  {
   "cell_type": "code",
   "execution_count": 5,
   "metadata": {},
   "outputs": [
    {
     "name": "stdout",
     "output_type": "stream",
     "text": [
      "<class 'pandas.core.frame.DataFrame'>\n",
      "RangeIndex: 958 entries, 0 to 957\n",
      "Data columns (total 12 columns):\n",
      " #   Column            Non-Null Count  Dtype \n",
      "---  ------            --------------  ----- \n",
      " 0   Rental_ID         958 non-null    int64 \n",
      " 1   times_rented      958 non-null    int64 \n",
      " 2   INV_ID            958 non-null    int64 \n",
      " 3   Customer_id       958 non-null    int64 \n",
      " 4   film_id           958 non-null    int64 \n",
      " 5   store_id          958 non-null    int64 \n",
      " 6   category_id       958 non-null    int64 \n",
      " 7   name              958 non-null    object\n",
      " 8   rental_duration   958 non-null    int64 \n",
      " 9   release_year      958 non-null    int64 \n",
      " 10  rating            958 non-null    object\n",
      " 11  special_features  958 non-null    object\n",
      "dtypes: int64(9), object(3)\n",
      "memory usage: 89.9+ KB\n"
     ]
    }
   ],
   "source": [
    "df.info()"
   ]
  },
  {
   "cell_type": "code",
   "execution_count": 6,
   "metadata": {
    "scrolled": true
   },
   "outputs": [
    {
     "data": {
      "text/plain": [
       "(958, 12)"
      ]
     },
     "execution_count": 6,
     "metadata": {},
     "output_type": "execute_result"
    }
   ],
   "source": [
    "df.shape"
   ]
  },
  {
   "cell_type": "code",
   "execution_count": 7,
   "metadata": {},
   "outputs": [
    {
     "data": {
      "text/plain": [
       "Rental_ID           0\n",
       "times_rented        0\n",
       "INV_ID              0\n",
       "Customer_id         0\n",
       "film_id             0\n",
       "store_id            0\n",
       "category_id         0\n",
       "name                0\n",
       "rental_duration     0\n",
       "release_year        0\n",
       "rating              0\n",
       "special_features    0\n",
       "dtype: int64"
      ]
     },
     "execution_count": 7,
     "metadata": {},
     "output_type": "execute_result"
    }
   ],
   "source": [
    "df.isna().sum()"
   ]
  },
  {
   "cell_type": "code",
   "execution_count": 8,
   "metadata": {
    "scrolled": true
   },
   "outputs": [
    {
     "data": {
      "text/html": [
       "<div>\n",
       "<style scoped>\n",
       "    .dataframe tbody tr th:only-of-type {\n",
       "        vertical-align: middle;\n",
       "    }\n",
       "\n",
       "    .dataframe tbody tr th {\n",
       "        vertical-align: top;\n",
       "    }\n",
       "\n",
       "    .dataframe thead th {\n",
       "        text-align: right;\n",
       "    }\n",
       "</style>\n",
       "<table border=\"1\" class=\"dataframe\">\n",
       "  <thead>\n",
       "    <tr style=\"text-align: right;\">\n",
       "      <th></th>\n",
       "      <th>Rental_ID</th>\n",
       "      <th>times_rented</th>\n",
       "      <th>INV_ID</th>\n",
       "      <th>Customer_id</th>\n",
       "      <th>film_id</th>\n",
       "      <th>store_id</th>\n",
       "      <th>category_id</th>\n",
       "      <th>name</th>\n",
       "      <th>rental_duration</th>\n",
       "      <th>release_year</th>\n",
       "      <th>rating</th>\n",
       "      <th>special_features</th>\n",
       "    </tr>\n",
       "  </thead>\n",
       "  <tbody>\n",
       "    <tr>\n",
       "      <th>0</th>\n",
       "      <td>14625</td>\n",
       "      <td>1</td>\n",
       "      <td>2661</td>\n",
       "      <td>507</td>\n",
       "      <td>584</td>\n",
       "      <td>1</td>\n",
       "      <td>9</td>\n",
       "      <td>Foreign</td>\n",
       "      <td>6</td>\n",
       "      <td>2006</td>\n",
       "      <td>PG-13</td>\n",
       "      <td>Behind the Scenes</td>\n",
       "    </tr>\n",
       "    <tr>\n",
       "      <th>1</th>\n",
       "      <td>14009</td>\n",
       "      <td>2</td>\n",
       "      <td>3004</td>\n",
       "      <td>382</td>\n",
       "      <td>659</td>\n",
       "      <td>2</td>\n",
       "      <td>1</td>\n",
       "      <td>Action</td>\n",
       "      <td>3</td>\n",
       "      <td>2006</td>\n",
       "      <td>PG-13</td>\n",
       "      <td>Trailers,Deleted Scenes</td>\n",
       "    </tr>\n",
       "    <tr>\n",
       "      <th>2</th>\n",
       "      <td>13535</td>\n",
       "      <td>2</td>\n",
       "      <td>1563</td>\n",
       "      <td>86</td>\n",
       "      <td>343</td>\n",
       "      <td>1</td>\n",
       "      <td>3</td>\n",
       "      <td>Children</td>\n",
       "      <td>6</td>\n",
       "      <td>2006</td>\n",
       "      <td>PG</td>\n",
       "      <td>Trailers,Deleted Scenes</td>\n",
       "    </tr>\n",
       "    <tr>\n",
       "      <th>3</th>\n",
       "      <td>11673</td>\n",
       "      <td>2</td>\n",
       "      <td>823</td>\n",
       "      <td>303</td>\n",
       "      <td>180</td>\n",
       "      <td>2</td>\n",
       "      <td>4</td>\n",
       "      <td>Classics</td>\n",
       "      <td>4</td>\n",
       "      <td>2006</td>\n",
       "      <td>PG-13</td>\n",
       "      <td>Trailers,Commentaries</td>\n",
       "    </tr>\n",
       "    <tr>\n",
       "      <th>4</th>\n",
       "      <td>12318</td>\n",
       "      <td>2</td>\n",
       "      <td>3694</td>\n",
       "      <td>332</td>\n",
       "      <td>808</td>\n",
       "      <td>2</td>\n",
       "      <td>4</td>\n",
       "      <td>Classics</td>\n",
       "      <td>5</td>\n",
       "      <td>2006</td>\n",
       "      <td>R</td>\n",
       "      <td>Behind the Scenes</td>\n",
       "    </tr>\n",
       "    <tr>\n",
       "      <th>...</th>\n",
       "      <td>...</td>\n",
       "      <td>...</td>\n",
       "      <td>...</td>\n",
       "      <td>...</td>\n",
       "      <td>...</td>\n",
       "      <td>...</td>\n",
       "      <td>...</td>\n",
       "      <td>...</td>\n",
       "      <td>...</td>\n",
       "      <td>...</td>\n",
       "      <td>...</td>\n",
       "      <td>...</td>\n",
       "    </tr>\n",
       "    <tr>\n",
       "      <th>953</th>\n",
       "      <td>8906</td>\n",
       "      <td>15</td>\n",
       "      <td>2667</td>\n",
       "      <td>560</td>\n",
       "      <td>586</td>\n",
       "      <td>1</td>\n",
       "      <td>1</td>\n",
       "      <td>Action</td>\n",
       "      <td>4</td>\n",
       "      <td>2006</td>\n",
       "      <td>PG</td>\n",
       "      <td>Behind the Scenes</td>\n",
       "    </tr>\n",
       "    <tr>\n",
       "      <th>954</th>\n",
       "      <td>10794</td>\n",
       "      <td>15</td>\n",
       "      <td>889</td>\n",
       "      <td>27</td>\n",
       "      <td>199</td>\n",
       "      <td>1</td>\n",
       "      <td>6</td>\n",
       "      <td>Documentary</td>\n",
       "      <td>4</td>\n",
       "      <td>2006</td>\n",
       "      <td>R</td>\n",
       "      <td>Behind the Scenes</td>\n",
       "    </tr>\n",
       "    <tr>\n",
       "      <th>955</th>\n",
       "      <td>10699</td>\n",
       "      <td>15</td>\n",
       "      <td>1029</td>\n",
       "      <td>125</td>\n",
       "      <td>231</td>\n",
       "      <td>1</td>\n",
       "      <td>8</td>\n",
       "      <td>Family</td>\n",
       "      <td>7</td>\n",
       "      <td>2006</td>\n",
       "      <td>R</td>\n",
       "      <td>Trailers,Behind the Scenes</td>\n",
       "    </tr>\n",
       "    <tr>\n",
       "      <th>956</th>\n",
       "      <td>13703</td>\n",
       "      <td>15</td>\n",
       "      <td>2296</td>\n",
       "      <td>356</td>\n",
       "      <td>500</td>\n",
       "      <td>1</td>\n",
       "      <td>9</td>\n",
       "      <td>Foreign</td>\n",
       "      <td>5</td>\n",
       "      <td>2006</td>\n",
       "      <td>PG-13</td>\n",
       "      <td>Trailers,Commentaries,Behind the Scenes</td>\n",
       "    </tr>\n",
       "    <tr>\n",
       "      <th>957</th>\n",
       "      <td>9006</td>\n",
       "      <td>15</td>\n",
       "      <td>3315</td>\n",
       "      <td>49</td>\n",
       "      <td>730</td>\n",
       "      <td>1</td>\n",
       "      <td>13</td>\n",
       "      <td>New</td>\n",
       "      <td>3</td>\n",
       "      <td>2006</td>\n",
       "      <td>PG-13</td>\n",
       "      <td>Commentaries,Deleted Scenes,Behind the Scenes</td>\n",
       "    </tr>\n",
       "  </tbody>\n",
       "</table>\n",
       "<p>958 rows × 12 columns</p>\n",
       "</div>"
      ],
      "text/plain": [
       "     Rental_ID  times_rented  INV_ID  Customer_id  film_id  store_id  \\\n",
       "0        14625             1    2661          507      584         1   \n",
       "1        14009             2    3004          382      659         2   \n",
       "2        13535             2    1563           86      343         1   \n",
       "3        11673             2     823          303      180         2   \n",
       "4        12318             2    3694          332      808         2   \n",
       "..         ...           ...     ...          ...      ...       ...   \n",
       "953       8906            15    2667          560      586         1   \n",
       "954      10794            15     889           27      199         1   \n",
       "955      10699            15    1029          125      231         1   \n",
       "956      13703            15    2296          356      500         1   \n",
       "957       9006            15    3315           49      730         1   \n",
       "\n",
       "     category_id         name  rental_duration  release_year rating  \\\n",
       "0              9      Foreign                6          2006  PG-13   \n",
       "1              1       Action                3          2006  PG-13   \n",
       "2              3     Children                6          2006     PG   \n",
       "3              4     Classics                4          2006  PG-13   \n",
       "4              4     Classics                5          2006      R   \n",
       "..           ...          ...              ...           ...    ...   \n",
       "953            1       Action                4          2006     PG   \n",
       "954            6  Documentary                4          2006      R   \n",
       "955            8       Family                7          2006      R   \n",
       "956            9      Foreign                5          2006  PG-13   \n",
       "957           13          New                3          2006  PG-13   \n",
       "\n",
       "                                  special_features  \n",
       "0                                Behind the Scenes  \n",
       "1                          Trailers,Deleted Scenes  \n",
       "2                          Trailers,Deleted Scenes  \n",
       "3                            Trailers,Commentaries  \n",
       "4                                Behind the Scenes  \n",
       "..                                             ...  \n",
       "953                              Behind the Scenes  \n",
       "954                              Behind the Scenes  \n",
       "955                     Trailers,Behind the Scenes  \n",
       "956        Trailers,Commentaries,Behind the Scenes  \n",
       "957  Commentaries,Deleted Scenes,Behind the Scenes  \n",
       "\n",
       "[958 rows x 12 columns]"
      ]
     },
     "execution_count": 8,
     "metadata": {},
     "output_type": "execute_result"
    }
   ],
   "source": [
    "df.dropna(how='all')"
   ]
  },
  {
   "cell_type": "code",
   "execution_count": 9,
   "metadata": {
    "scrolled": true
   },
   "outputs": [
    {
     "data": {
      "text/plain": [
       "array([14625, 14009, 13535, 11673, 12318,  9509, 15883, 12450, 15588,\n",
       "       15696, 13154, 10477, 14432, 15381, 11826, 11607, 14271, 15285,\n",
       "       10197, 13175, 15551, 13934, 13181, 16008, 11037, 15264, 12766,\n",
       "       15053, 12982, 15658,  9706,  9737,  9927, 15636, 14609, 15250,\n",
       "       10872,  9677,  9219, 14144, 10140, 14918, 12773,  8914,  9962,\n",
       "        8876, 15241,  9714, 11169, 10268, 11653, 12622, 14222, 11032,\n",
       "        9398, 10142, 10610, 10930,  9802,  9146, 10275, 11441, 14359,\n",
       "        9805,  9261, 15585, 11868,  9101, 13988, 10801, 15087, 11192,\n",
       "       12652, 14363,  9554,  9662, 12120, 13687, 10630, 12701, 15810,\n",
       "        9371, 10742, 13879, 11480, 15098,  9072,  9282, 11752, 11399,\n",
       "       14087, 10161, 12553,  9732, 12331, 15530, 11788, 14254,  9185,\n",
       "       12180,  8918, 10995, 12818, 11171,  9090, 10322, 10067, 10936,\n",
       "       11314,  9708, 12962, 13245, 12172,  9957,  9314, 11385, 11562,\n",
       "       10467, 10522,  9022, 13047,  9969, 11435, 11634,  9896, 10366,\n",
       "       14412,  9640, 12903, 12762, 14513, 12257, 10318, 13400, 13810,\n",
       "       10174,  9221,  9320, 12708, 13807, 10764, 15575, 10700, 10186,\n",
       "       14027, 10932, 14423, 11807, 11129,  9760, 13686,  9834,  9940,\n",
       "       11292, 11216, 16044, 14268, 13924,  8944,  9756,  8948, 11855,\n",
       "       14572, 10961, 10224, 11091, 10697, 14457, 10310, 10556, 15927,\n",
       "       13704, 10735, 11422, 10593, 10962, 14641,  9913, 15475, 11760,\n",
       "       14661, 12703, 13093, 12509, 11659, 14686, 15796,  9544,  9307,\n",
       "       13751, 15425,  9943, 15063,  9813, 11560,  9198, 12058, 15671,\n",
       "       12401,  9073, 12709, 15536,  9387, 15369, 11549, 11797,  9625,\n",
       "        9682, 13520, 11180, 13098,  9419, 15195, 10452, 12536,  9071,\n",
       "       10288, 15571, 15209,  9542, 10399, 11128, 13080,  9923, 12128,\n",
       "        9291,  9120, 15432, 15767, 15495, 12220, 10169, 10559,  8934,\n",
       "        8901,  9870, 11863, 12099, 12620,  9007, 15971, 14527, 15815,\n",
       "       11406, 15790, 13466, 14962, 13308, 12862, 10816, 14010,  9611,\n",
       "       12787,  9738, 11085, 14943, 12102,  9661, 11214, 10015, 11274,\n",
       "       14875, 12052, 12911, 14379,  9742, 11295,  9984, 11244, 10511,\n",
       "       10066,  9841, 10676, 14104, 10862, 11664,  9390, 11021, 10892,\n",
       "       13694, 10279, 10529, 11136, 10848, 10661,  9679, 12642, 11310,\n",
       "       11922, 11190, 11029, 13279, 14628, 14026, 11283, 10189, 10912,\n",
       "       10248, 14951, 11434,  9648, 12039, 10897, 12588, 12875, 13970,\n",
       "       10662, 11479, 10160, 10486, 14590, 14333, 11033, 10038,  9317,\n",
       "       10049, 11581, 11591, 10737,  9167, 15911, 10323, 13864, 10607,\n",
       "        9361, 10691, 14882, 15836, 10124, 11369, 10145, 10343, 10853,\n",
       "       12503, 10434,  9468, 13590, 13542,  9689, 10494, 15864, 13763,\n",
       "       10073,  9077, 15026, 10671, 14408,  9840, 14007, 11367, 15150,\n",
       "       10685, 10263, 10732, 13144,  9134, 12431,  9365, 10668, 15860,\n",
       "       10789, 11749, 10675, 11486, 15296,  8942, 10422, 10612,  9584,\n",
       "       10707,  9502, 10985, 15574, 11268,  9406, 11642,  8976,  9194,\n",
       "       10903, 11337, 10201, 14543, 13131,  9912, 11559, 15736, 13549,\n",
       "       13171, 13062, 14096, 10055,  9081,  9673, 11215, 11327, 13730,\n",
       "       11153, 13722, 15847, 11011, 13727, 10711, 11743, 15797, 14735,\n",
       "       11936, 10842,  9668, 10942, 10680, 11890,  9949, 11645, 14002,\n",
       "       15106, 10851, 15483,  8961, 11066, 10997, 11432, 11411, 13101,\n",
       "        9228, 16038,  9700, 15507, 10540, 12085, 15402, 14571, 12476,\n",
       "       12150, 14390,  9888,  9445, 10609, 10752, 11373,  9564, 13983,\n",
       "       11087, 11446, 11289,  9012, 14936,  9036, 13100, 11229,  9770,\n",
       "       12367, 14985,  9632,  9583, 13459,  9349,  8964, 13469, 10293,\n",
       "       13135,  9893, 15990, 13918,  9108, 12633, 10103,  9002,  9709,\n",
       "        8925,  8939, 10009, 10375, 11139, 15632, 10396, 14048,  9988,\n",
       "       10036, 13221, 10670, 10587,  9087, 11111, 10137, 14939,  9493,\n",
       "       12322,  9956,  9045,  9161, 10191, 11426, 12233, 12093,  9910,\n",
       "       14284, 10974, 11124, 11585,  9214,  8907, 10249, 11177, 10506,\n",
       "       14147, 12313, 10965,  9622, 11470,  9465, 12065, 12149,  9379,\n",
       "       12985, 10438,  9112,  9981, 14239, 10698, 11204, 13653, 10266,\n",
       "       14788, 16023, 10975,  9686, 10664,  9123, 11364, 10125, 12707,\n",
       "        9010, 14482,  8959, 13367,  9137,  9287, 10913, 11084, 13803,\n",
       "       10712, 10253, 10259,  9577, 10041, 12687, 14049, 10560,  9545,\n",
       "       11077, 14295, 15300, 11044, 12210, 15346,  9078, 13684,  9527,\n",
       "       10795, 10788,  9244,  9156, 15379,  9680, 11927, 15428,  9580,\n",
       "       16018, 15861, 15926,  9804, 10012, 15598, 13371, 10954,  9037,\n",
       "        9897, 11276, 11381, 14231, 12303, 14777, 10305,  8974, 10603,\n",
       "       10088, 13270,  9335, 11539, 10128, 10229, 10945,  9303,  9066,\n",
       "       14193, 13323, 10882, 14762, 12237, 13575, 14765, 10260, 10622,\n",
       "        9180, 12830, 10338, 11252, 10895, 10089, 10188, 11643, 12080,\n",
       "       14563,  9717,  9316,  9118, 10835, 11464, 11538, 11052, 10865,\n",
       "       12556,  9946,  9495,  9768, 11143, 13302,  9859, 13501, 11000,\n",
       "       13488,  9551, 14957, 10411, 12370, 12575, 10072, 11112, 10058,\n",
       "       10060, 14178, 14046,  9093, 11454, 10817, 10383,  9298, 10388,\n",
       "       11801, 14877, 13237, 10586, 15974, 12202, 10596, 11805,  9086,\n",
       "        9787,  9035, 12764, 11141, 11211,  9336, 11722, 11275, 10646,\n",
       "       14414, 12014, 11338, 11943,  8931, 13339,  9467,  9436, 10571,\n",
       "       10606, 11247, 13310, 11059, 10222, 11455,  9898, 12625, 14768,\n",
       "       15552, 10011, 12788, 11090,  9842, 10426,  9075, 10143, 11828,\n",
       "       13227,  8949, 11529,  9121, 10917, 13451, 13153, 10331, 13787,\n",
       "       10244, 10204, 10944, 10445, 14501, 14499,  9202, 10757,  9887,\n",
       "       10116, 11286, 11201, 10837, 12448,  8987,  9422, 11947,  9769,\n",
       "       11151, 13564, 13434, 10834, 10624, 13235, 10793, 12598, 10597,\n",
       "       14218, 12599, 10004, 10166, 10308, 11130, 12473, 11442, 11101,\n",
       "       10877,  8927,  9175, 10071, 13778, 12435, 11019, 10465, 11166,\n",
       "       12034,  9437, 11353, 13130, 13748, 10787, 11262,  9376,  8988,\n",
       "       12361, 10355, 11193, 12336, 10340, 11083, 10792, 11188,  8881,\n",
       "       11555,  8869, 10040,  9547, 10502, 14849, 15455, 10682, 13625,\n",
       "       15141, 13238, 15323, 12790, 14246, 13948, 13964, 15763,  9327,\n",
       "       13128, 10847, 12940, 13001, 10047, 10545, 11351, 15442, 10251,\n",
       "       11449, 11051, 13512, 12772,  9416, 13526, 14568,  8971, 10626,\n",
       "        9688,  9106, 12616, 10527,  9099,  9483,  9798,  9669, 14038,\n",
       "       10782, 10546, 10064, 11459,  9260, 10665, 13562,  8921, 11174,\n",
       "       13821,  9127, 11195,  9164, 10634, 15900, 10949, 13382, 10409,\n",
       "       12805, 12282,  9869, 11596,  9973,  9004, 10927, 10099,  9203,\n",
       "        9654, 11423, 13395, 12686, 14130, 15800, 10185,  9273, 15367,\n",
       "       15627, 10241, 10175, 12533, 15876, 10459, 12923, 12466, 11370,\n",
       "       11558,  9989, 10235,  9151, 12996, 10393, 12285, 10806, 11089,\n",
       "       12531, 11418, 13940,  8895, 13273, 13588,  9363, 10542, 10489,\n",
       "        9241, 13482, 12071,  9487, 11212, 10496, 10487, 10738, 11476,\n",
       "       15161, 14803, 11420, 11433, 10363, 12769, 15831, 11999, 15398,\n",
       "       14282,  9309, 12248, 12113, 10804, 11293, 10525, 11108,  9454,\n",
       "       10220, 15656,  9507,  9746,  9838, 15027, 10352,  9255, 15310,\n",
       "        9589,  9785, 13109,  9789, 10387, 11255, 14198, 11482, 13869,\n",
       "       11386, 13177, 14871,  9224, 10114, 11462, 10783,  9300, 10243,\n",
       "       11382, 10200, 11391, 14183, 11721,  8992,  9157, 11239, 14708,\n",
       "        9265, 10591,  9401, 13136, 10601, 14298, 12757,  9860,  8893,\n",
       "       11305, 10594, 11260, 10660, 13236,  9939,  9778,  9411,  8906,\n",
       "       10794, 10699, 13703,  9006], dtype=int64)"
      ]
     },
     "execution_count": 9,
     "metadata": {},
     "output_type": "execute_result"
    }
   ],
   "source": [
    "df['Rental_ID'].unique()"
   ]
  },
  {
   "cell_type": "code",
   "execution_count": 10,
   "metadata": {},
   "outputs": [
    {
     "data": {
      "text/plain": [
       "array([2006], dtype=int64)"
      ]
     },
     "execution_count": 10,
     "metadata": {},
     "output_type": "execute_result"
    }
   ],
   "source": [
    "df['release_year'].unique()"
   ]
  },
  {
   "cell_type": "code",
   "execution_count": 11,
   "metadata": {},
   "outputs": [
    {
     "data": {
      "text/html": [
       "<div>\n",
       "<style scoped>\n",
       "    .dataframe tbody tr th:only-of-type {\n",
       "        vertical-align: middle;\n",
       "    }\n",
       "\n",
       "    .dataframe tbody tr th {\n",
       "        vertical-align: top;\n",
       "    }\n",
       "\n",
       "    .dataframe thead th {\n",
       "        text-align: right;\n",
       "    }\n",
       "</style>\n",
       "<table border=\"1\" class=\"dataframe\">\n",
       "  <thead>\n",
       "    <tr style=\"text-align: right;\">\n",
       "      <th></th>\n",
       "      <th>Rental_ID</th>\n",
       "      <th>times_rented</th>\n",
       "      <th>INV_ID</th>\n",
       "      <th>Customer_id</th>\n",
       "      <th>film_id</th>\n",
       "      <th>store_id</th>\n",
       "      <th>category_id</th>\n",
       "      <th>name</th>\n",
       "      <th>rental_duration</th>\n",
       "      <th>rating</th>\n",
       "      <th>special_features</th>\n",
       "    </tr>\n",
       "  </thead>\n",
       "  <tbody>\n",
       "    <tr>\n",
       "      <th>0</th>\n",
       "      <td>14625</td>\n",
       "      <td>1</td>\n",
       "      <td>2661</td>\n",
       "      <td>507</td>\n",
       "      <td>584</td>\n",
       "      <td>1</td>\n",
       "      <td>9</td>\n",
       "      <td>Foreign</td>\n",
       "      <td>6</td>\n",
       "      <td>PG-13</td>\n",
       "      <td>Behind the Scenes</td>\n",
       "    </tr>\n",
       "    <tr>\n",
       "      <th>1</th>\n",
       "      <td>14009</td>\n",
       "      <td>2</td>\n",
       "      <td>3004</td>\n",
       "      <td>382</td>\n",
       "      <td>659</td>\n",
       "      <td>2</td>\n",
       "      <td>1</td>\n",
       "      <td>Action</td>\n",
       "      <td>3</td>\n",
       "      <td>PG-13</td>\n",
       "      <td>Trailers,Deleted Scenes</td>\n",
       "    </tr>\n",
       "    <tr>\n",
       "      <th>2</th>\n",
       "      <td>13535</td>\n",
       "      <td>2</td>\n",
       "      <td>1563</td>\n",
       "      <td>86</td>\n",
       "      <td>343</td>\n",
       "      <td>1</td>\n",
       "      <td>3</td>\n",
       "      <td>Children</td>\n",
       "      <td>6</td>\n",
       "      <td>PG</td>\n",
       "      <td>Trailers,Deleted Scenes</td>\n",
       "    </tr>\n",
       "    <tr>\n",
       "      <th>3</th>\n",
       "      <td>11673</td>\n",
       "      <td>2</td>\n",
       "      <td>823</td>\n",
       "      <td>303</td>\n",
       "      <td>180</td>\n",
       "      <td>2</td>\n",
       "      <td>4</td>\n",
       "      <td>Classics</td>\n",
       "      <td>4</td>\n",
       "      <td>PG-13</td>\n",
       "      <td>Trailers,Commentaries</td>\n",
       "    </tr>\n",
       "    <tr>\n",
       "      <th>4</th>\n",
       "      <td>12318</td>\n",
       "      <td>2</td>\n",
       "      <td>3694</td>\n",
       "      <td>332</td>\n",
       "      <td>808</td>\n",
       "      <td>2</td>\n",
       "      <td>4</td>\n",
       "      <td>Classics</td>\n",
       "      <td>5</td>\n",
       "      <td>R</td>\n",
       "      <td>Behind the Scenes</td>\n",
       "    </tr>\n",
       "  </tbody>\n",
       "</table>\n",
       "</div>"
      ],
      "text/plain": [
       "   Rental_ID  times_rented  INV_ID  Customer_id  film_id  store_id  \\\n",
       "0      14625             1    2661          507      584         1   \n",
       "1      14009             2    3004          382      659         2   \n",
       "2      13535             2    1563           86      343         1   \n",
       "3      11673             2     823          303      180         2   \n",
       "4      12318             2    3694          332      808         2   \n",
       "\n",
       "   category_id      name  rental_duration rating         special_features  \n",
       "0            9   Foreign                6  PG-13        Behind the Scenes  \n",
       "1            1    Action                3  PG-13  Trailers,Deleted Scenes  \n",
       "2            3  Children                6     PG  Trailers,Deleted Scenes  \n",
       "3            4  Classics                4  PG-13    Trailers,Commentaries  \n",
       "4            4  Classics                5      R        Behind the Scenes  "
      ]
     },
     "execution_count": 11,
     "metadata": {},
     "output_type": "execute_result"
    }
   ],
   "source": [
    "df = df.drop('release_year', axis=1)\n",
    "df.head()"
   ]
  },
  {
   "cell_type": "code",
   "execution_count": 12,
   "metadata": {},
   "outputs": [
    {
     "data": {
      "text/plain": [
       "array([ 1,  2,  3,  4,  5,  6,  7,  8,  9, 10, 11, 12, 13, 14, 15],\n",
       "      dtype=int64)"
      ]
     },
     "execution_count": 12,
     "metadata": {},
     "output_type": "execute_result"
    }
   ],
   "source": [
    "df['times_rented'].unique()"
   ]
  },
  {
   "cell_type": "code",
   "execution_count": 13,
   "metadata": {
    "scrolled": false
   },
   "outputs": [
    {
     "data": {
      "text/html": [
       "<div>\n",
       "<style scoped>\n",
       "    .dataframe tbody tr th:only-of-type {\n",
       "        vertical-align: middle;\n",
       "    }\n",
       "\n",
       "    .dataframe tbody tr th {\n",
       "        vertical-align: top;\n",
       "    }\n",
       "\n",
       "    .dataframe thead th {\n",
       "        text-align: right;\n",
       "    }\n",
       "</style>\n",
       "<table border=\"1\" class=\"dataframe\">\n",
       "  <thead>\n",
       "    <tr style=\"text-align: right;\">\n",
       "      <th></th>\n",
       "      <th>CT</th>\n",
       "      <th>Movies_rented</th>\n",
       "    </tr>\n",
       "  </thead>\n",
       "  <tbody>\n",
       "    <tr>\n",
       "      <th>0</th>\n",
       "      <td>318</td>\n",
       "      <td>2</td>\n",
       "    </tr>\n",
       "    <tr>\n",
       "      <th>1</th>\n",
       "      <td>281</td>\n",
       "      <td>2</td>\n",
       "    </tr>\n",
       "    <tr>\n",
       "      <th>2</th>\n",
       "      <td>164</td>\n",
       "      <td>2</td>\n",
       "    </tr>\n",
       "    <tr>\n",
       "      <th>3</th>\n",
       "      <td>228</td>\n",
       "      <td>4</td>\n",
       "    </tr>\n",
       "    <tr>\n",
       "      <th>4</th>\n",
       "      <td>222</td>\n",
       "      <td>4</td>\n",
       "    </tr>\n",
       "  </tbody>\n",
       "</table>\n",
       "</div>"
      ],
      "text/plain": [
       "    CT  Movies_rented\n",
       "0  318              2\n",
       "1  281              2\n",
       "2  164              2\n",
       "3  228              4\n",
       "4  222              4"
      ]
     },
     "execution_count": 13,
     "metadata": {},
     "output_type": "execute_result"
    }
   ],
   "source": [
    "query2='''select r.customer_id as CT , count(i.film_id) as Movies_rented  from rental as r\n",
    "join inventory as i on i.inventory_id=r.inventory_id\n",
    "join film_category as fc on fc.film_id=i.film_id\n",
    "join category as c on c.category_id =fc.category_id\n",
    "join film as f on f.film_id = fc.film_id\n",
    "where r.rental_date >= 20050730 and r.rental_date <= 20050830\n",
    "group by Customer_id\n",
    "Order by Movies_rented ASC;'''\n",
    "\n",
    "df2= pd.read_sql_query(query2, engine)\n",
    "df2.head()"
   ]
  },
  {
   "cell_type": "code",
   "execution_count": 14,
   "metadata": {},
   "outputs": [
    {
     "data": {
      "text/plain": [
       "array([ 2,  4,  5,  6,  7,  8,  9, 10, 11, 12, 13, 14, 15, 16, 17, 18, 19,\n",
       "       20, 21, 22, 23], dtype=int64)"
      ]
     },
     "execution_count": 14,
     "metadata": {},
     "output_type": "execute_result"
    }
   ],
   "source": [
    "df2['Movies_rented'].unique()"
   ]
  },
  {
   "cell_type": "code",
   "execution_count": 15,
   "metadata": {},
   "outputs": [
    {
     "name": "stdout",
     "output_type": "stream",
     "text": [
      "<class 'pandas.core.frame.DataFrame'>\n",
      "RangeIndex: 599 entries, 0 to 598\n",
      "Data columns (total 2 columns):\n",
      " #   Column         Non-Null Count  Dtype\n",
      "---  ------         --------------  -----\n",
      " 0   CT             599 non-null    int64\n",
      " 1   Movies_rented  599 non-null    int64\n",
      "dtypes: int64(2)\n",
      "memory usage: 9.5 KB\n"
     ]
    }
   ],
   "source": [
    "df2.info()"
   ]
  },
  {
   "cell_type": "code",
   "execution_count": 16,
   "metadata": {},
   "outputs": [
    {
     "data": {
      "text/plain": [
       "CT               0\n",
       "Movies_rented    0\n",
       "dtype: int64"
      ]
     },
     "execution_count": 16,
     "metadata": {},
     "output_type": "execute_result"
    }
   ],
   "source": [
    "df2.isna().sum()"
   ]
  },
  {
   "cell_type": "code",
   "execution_count": 17,
   "metadata": {},
   "outputs": [
    {
     "name": "stdout",
     "output_type": "stream",
     "text": [
      "<class 'pandas.core.frame.DataFrame'>\n",
      "RangeIndex: 958 entries, 0 to 957\n",
      "Data columns (total 11 columns):\n",
      " #   Column            Non-Null Count  Dtype \n",
      "---  ------            --------------  ----- \n",
      " 0   Rental_ID         958 non-null    int64 \n",
      " 1   times_rented      958 non-null    int64 \n",
      " 2   INV_ID            958 non-null    int64 \n",
      " 3   Customer_id       958 non-null    int64 \n",
      " 4   film_id           958 non-null    int64 \n",
      " 5   store_id          958 non-null    int64 \n",
      " 6   category_id       958 non-null    int64 \n",
      " 7   name              958 non-null    object\n",
      " 8   rental_duration   958 non-null    int64 \n",
      " 9   rating            958 non-null    object\n",
      " 10  special_features  958 non-null    object\n",
      "dtypes: int64(8), object(3)\n",
      "memory usage: 82.5+ KB\n"
     ]
    }
   ],
   "source": [
    "df.info()"
   ]
  },
  {
   "cell_type": "code",
   "execution_count": 18,
   "metadata": {},
   "outputs": [
    {
     "data": {
      "text/plain": [
       "Sports         73\n",
       "Family         67\n",
       "Foreign        67\n",
       "Animation      64\n",
       "Documentary    63\n",
       "Drama          61\n",
       "Action         61\n",
       "New            60\n",
       "Sci-Fi         59\n",
       "Children       58\n",
       "Games          58\n",
       "Comedy         56\n",
       "Classics       54\n",
       "Horror         53\n",
       "Travel         53\n",
       "Music          51\n",
       "Name: name, dtype: int64"
      ]
     },
     "execution_count": 18,
     "metadata": {},
     "output_type": "execute_result"
    }
   ],
   "source": [
    "df['name'].value_counts()"
   ]
  },
  {
   "cell_type": "code",
   "execution_count": 19,
   "metadata": {},
   "outputs": [
    {
     "data": {
      "text/plain": [
       "PG-13    213\n",
       "NC-17    202\n",
       "R        189\n",
       "PG       183\n",
       "G        171\n",
       "Name: rating, dtype: int64"
      ]
     },
     "execution_count": 19,
     "metadata": {},
     "output_type": "execute_result"
    }
   ],
   "source": [
    "df['rating'].value_counts()"
   ]
  },
  {
   "cell_type": "code",
   "execution_count": 20,
   "metadata": {},
   "outputs": [
    {
     "data": {
      "text/plain": [
       "Trailers,Commentaries,Behind the Scenes                   76\n",
       "Trailers                                                  71\n",
       "Commentaries,Behind the Scenes                            70\n",
       "Behind the Scenes                                         68\n",
       "Deleted Scenes,Behind the Scenes                          68\n",
       "Trailers,Behind the Scenes                                67\n",
       "Trailers,Commentaries                                     67\n",
       "Trailers,Deleted Scenes                                   65\n",
       "Commentaries,Deleted Scenes,Behind the Scenes             65\n",
       "Commentaries,Deleted Scenes                               62\n",
       "Commentaries                                              61\n",
       "Trailers,Commentaries,Deleted Scenes                      60\n",
       "Deleted Scenes                                            57\n",
       "Trailers,Commentaries,Deleted Scenes,Behind the Scenes    55\n",
       "Trailers,Deleted Scenes,Behind the Scenes                 46\n",
       "Name: special_features, dtype: int64"
      ]
     },
     "execution_count": 20,
     "metadata": {},
     "output_type": "execute_result"
    }
   ],
   "source": [
    "df['special_features'].value_counts()"
   ]
  },
  {
   "cell_type": "code",
   "execution_count": 21,
   "metadata": {},
   "outputs": [],
   "source": [
    "import matplotlib.pyplot as plt\n",
    "import seaborn as sns"
   ]
  },
  {
   "cell_type": "code",
   "execution_count": 22,
   "metadata": {
    "scrolled": true
   },
   "outputs": [
    {
     "data": {
      "text/html": [
       "<div>\n",
       "<style scoped>\n",
       "    .dataframe tbody tr th:only-of-type {\n",
       "        vertical-align: middle;\n",
       "    }\n",
       "\n",
       "    .dataframe tbody tr th {\n",
       "        vertical-align: top;\n",
       "    }\n",
       "\n",
       "    .dataframe thead th {\n",
       "        text-align: right;\n",
       "    }\n",
       "</style>\n",
       "<table border=\"1\" class=\"dataframe\">\n",
       "  <thead>\n",
       "    <tr style=\"text-align: right;\">\n",
       "      <th></th>\n",
       "      <th>Rental_ID</th>\n",
       "      <th>times_rented</th>\n",
       "      <th>INV_ID</th>\n",
       "      <th>Customer_id</th>\n",
       "      <th>film_id</th>\n",
       "      <th>store_id</th>\n",
       "      <th>category_id</th>\n",
       "      <th>rental_duration</th>\n",
       "    </tr>\n",
       "  </thead>\n",
       "  <tbody>\n",
       "    <tr>\n",
       "      <th>count</th>\n",
       "      <td>958.000000</td>\n",
       "      <td>958.000000</td>\n",
       "      <td>958.000000</td>\n",
       "      <td>958.000000</td>\n",
       "      <td>958.000000</td>\n",
       "      <td>958.000000</td>\n",
       "      <td>958.000000</td>\n",
       "      <td>958.000000</td>\n",
       "    </tr>\n",
       "    <tr>\n",
       "      <th>mean</th>\n",
       "      <td>11639.289144</td>\n",
       "      <td>7.305846</td>\n",
       "      <td>2296.724426</td>\n",
       "      <td>290.521921</td>\n",
       "      <td>502.598121</td>\n",
       "      <td>1.207724</td>\n",
       "      <td>8.483299</td>\n",
       "      <td>4.969729</td>\n",
       "    </tr>\n",
       "    <tr>\n",
       "      <th>std</th>\n",
       "      <td>1989.710858</td>\n",
       "      <td>2.995885</td>\n",
       "      <td>1317.854373</td>\n",
       "      <td>175.491259</td>\n",
       "      <td>287.541738</td>\n",
       "      <td>0.405890</td>\n",
       "      <td>4.615321</td>\n",
       "      <td>1.407593</td>\n",
       "    </tr>\n",
       "    <tr>\n",
       "      <th>min</th>\n",
       "      <td>8869.000000</td>\n",
       "      <td>1.000000</td>\n",
       "      <td>1.000000</td>\n",
       "      <td>1.000000</td>\n",
       "      <td>1.000000</td>\n",
       "      <td>1.000000</td>\n",
       "      <td>1.000000</td>\n",
       "      <td>3.000000</td>\n",
       "    </tr>\n",
       "    <tr>\n",
       "      <th>25%</th>\n",
       "      <td>10061.000000</td>\n",
       "      <td>5.000000</td>\n",
       "      <td>1159.750000</td>\n",
       "      <td>138.000000</td>\n",
       "      <td>256.250000</td>\n",
       "      <td>1.000000</td>\n",
       "      <td>5.000000</td>\n",
       "      <td>4.000000</td>\n",
       "    </tr>\n",
       "    <tr>\n",
       "      <th>50%</th>\n",
       "      <td>11137.500000</td>\n",
       "      <td>7.000000</td>\n",
       "      <td>2322.000000</td>\n",
       "      <td>278.500000</td>\n",
       "      <td>504.500000</td>\n",
       "      <td>1.000000</td>\n",
       "      <td>8.000000</td>\n",
       "      <td>5.000000</td>\n",
       "    </tr>\n",
       "    <tr>\n",
       "      <th>75%</th>\n",
       "      <td>13150.750000</td>\n",
       "      <td>10.000000</td>\n",
       "      <td>3427.500000</td>\n",
       "      <td>442.000000</td>\n",
       "      <td>751.750000</td>\n",
       "      <td>1.000000</td>\n",
       "      <td>13.000000</td>\n",
       "      <td>6.000000</td>\n",
       "    </tr>\n",
       "    <tr>\n",
       "      <th>max</th>\n",
       "      <td>16044.000000</td>\n",
       "      <td>15.000000</td>\n",
       "      <td>4574.000000</td>\n",
       "      <td>599.000000</td>\n",
       "      <td>1000.000000</td>\n",
       "      <td>2.000000</td>\n",
       "      <td>16.000000</td>\n",
       "      <td>7.000000</td>\n",
       "    </tr>\n",
       "  </tbody>\n",
       "</table>\n",
       "</div>"
      ],
      "text/plain": [
       "          Rental_ID  times_rented       INV_ID  Customer_id      film_id  \\\n",
       "count    958.000000    958.000000   958.000000   958.000000   958.000000   \n",
       "mean   11639.289144      7.305846  2296.724426   290.521921   502.598121   \n",
       "std     1989.710858      2.995885  1317.854373   175.491259   287.541738   \n",
       "min     8869.000000      1.000000     1.000000     1.000000     1.000000   \n",
       "25%    10061.000000      5.000000  1159.750000   138.000000   256.250000   \n",
       "50%    11137.500000      7.000000  2322.000000   278.500000   504.500000   \n",
       "75%    13150.750000     10.000000  3427.500000   442.000000   751.750000   \n",
       "max    16044.000000     15.000000  4574.000000   599.000000  1000.000000   \n",
       "\n",
       "         store_id  category_id  rental_duration  \n",
       "count  958.000000   958.000000       958.000000  \n",
       "mean     1.207724     8.483299         4.969729  \n",
       "std      0.405890     4.615321         1.407593  \n",
       "min      1.000000     1.000000         3.000000  \n",
       "25%      1.000000     5.000000         4.000000  \n",
       "50%      1.000000     8.000000         5.000000  \n",
       "75%      1.000000    13.000000         6.000000  \n",
       "max      2.000000    16.000000         7.000000  "
      ]
     },
     "execution_count": 22,
     "metadata": {},
     "output_type": "execute_result"
    }
   ],
   "source": [
    "df.describe()"
   ]
  },
  {
   "cell_type": "code",
   "execution_count": 23,
   "metadata": {},
   "outputs": [],
   "source": [
    "special_features = df['special_features'].value_counts()"
   ]
  },
  {
   "cell_type": "code",
   "execution_count": 24,
   "metadata": {
    "scrolled": true
   },
   "outputs": [
    {
     "name": "stderr",
     "output_type": "stream",
     "text": [
      "C:\\Users\\zdepptana\\anaconda3\\lib\\site-packages\\seaborn\\_decorators.py:36: FutureWarning: Pass the following variables as keyword args: x, y. From version 0.12, the only valid positional argument will be `data`, and passing other arguments without an explicit keyword will result in an error or misinterpretation.\n",
      "  warnings.warn(\n"
     ]
    },
    {
     "data": {
      "image/png": "[encoded data removed]",
      "text/plain": [
       "<Figure size 432x288 with 1 Axes>"
      ]
     },
     "metadata": {
      "needs_background": "light"
     },
     "output_type": "display_data"
    }
   ],
   "source": [
    "sns.barplot( special_features.values, special_features.index, alpha=0.9)\n",
    "plt.title('Frequency')\n",
    "plt.ylabel('Special features', fontsize=12)\n",
    "plt.show()"
   ]
  },
  {
   "cell_type": "code",
   "execution_count": 25,
   "metadata": {},
   "outputs": [],
   "source": [
    "rating_fr = df['rating'].value_counts()"
   ]
  },
  {
   "cell_type": "code",
   "execution_count": 26,
   "metadata": {},
   "outputs": [
    {
     "name": "stderr",
     "output_type": "stream",
     "text": [
      "C:\\Users\\zdepptana\\anaconda3\\lib\\site-packages\\seaborn\\_decorators.py:36: FutureWarning: Pass the following variables as keyword args: x, y. From version 0.12, the only valid positional argument will be `data`, and passing other arguments without an explicit keyword will result in an error or misinterpretation.\n",
      "  warnings.warn(\n"
     ]
    },
    {
     "data": {
      "image/png": "[encoded data removed]",
      "text/plain": [
       "<Figure size 432x288 with 1 Axes>"
      ]
     },
     "metadata": {
      "needs_background": "light"
     },
     "output_type": "display_data"
    }
   ],
   "source": [
    "sns.barplot( rating_fr.index, rating_fr.values,alpha=0.9)\n",
    "plt.title('Frequency')\n",
    "plt.ylabel('rating', fontsize=12)\n",
    "plt.show()"
   ]
  },
  {
   "cell_type": "code",
   "execution_count": 27,
   "metadata": {},
   "outputs": [],
   "source": [
    "name_fr = df['name'].value_counts()"
   ]
  },
  {
   "cell_type": "code",
   "execution_count": 28,
   "metadata": {},
   "outputs": [
    {
     "name": "stderr",
     "output_type": "stream",
     "text": [
      "C:\\Users\\zdepptana\\anaconda3\\lib\\site-packages\\seaborn\\_decorators.py:36: FutureWarning: Pass the following variables as keyword args: x, y. From version 0.12, the only valid positional argument will be `data`, and passing other arguments without an explicit keyword will result in an error or misinterpretation.\n",
      "  warnings.warn(\n"
     ]
    },
    {
     "data": {
      "image/png": "[encoded data removed]",
      "text/plain": [
       "<Figure size 432x288 with 1 Axes>"
      ]
     },
     "metadata": {
      "needs_background": "light"
     },
     "output_type": "display_data"
    }
   ],
   "source": [
    "sns.barplot(name_fr.values, name_fr.index ,alpha=0.9)\n",
    "plt.title('Frequency')\n",
    "plt.ylabel('Name', fontsize=12)\n",
    "plt.show()"
   ]
  },
  {
   "cell_type": "code",
   "execution_count": 29,
   "metadata": {},
   "outputs": [],
   "source": [
    "replace_rating = {'G':1, 'PG':2, 'PG-13':3, 'R':4, 'NC-17':5}\n",
    "df['rating'] = df['rating'].map(replace_rating)"
   ]
  },
  {
   "cell_type": "code",
   "execution_count": 30,
   "metadata": {
    "scrolled": true
   },
   "outputs": [
    {
     "data": {
      "text/html": [
       "<div>\n",
       "<style scoped>\n",
       "    .dataframe tbody tr th:only-of-type {\n",
       "        vertical-align: middle;\n",
       "    }\n",
       "\n",
       "    .dataframe tbody tr th {\n",
       "        vertical-align: top;\n",
       "    }\n",
       "\n",
       "    .dataframe thead th {\n",
       "        text-align: right;\n",
       "    }\n",
       "</style>\n",
       "<table border=\"1\" class=\"dataframe\">\n",
       "  <thead>\n",
       "    <tr style=\"text-align: right;\">\n",
       "      <th></th>\n",
       "      <th>Rental_ID</th>\n",
       "      <th>times_rented</th>\n",
       "      <th>INV_ID</th>\n",
       "      <th>Customer_id</th>\n",
       "      <th>film_id</th>\n",
       "      <th>store_id</th>\n",
       "      <th>category_id</th>\n",
       "      <th>name</th>\n",
       "      <th>rental_duration</th>\n",
       "      <th>rating</th>\n",
       "      <th>special_features</th>\n",
       "    </tr>\n",
       "  </thead>\n",
       "  <tbody>\n",
       "    <tr>\n",
       "      <th>0</th>\n",
       "      <td>14625</td>\n",
       "      <td>1</td>\n",
       "      <td>2661</td>\n",
       "      <td>507</td>\n",
       "      <td>584</td>\n",
       "      <td>1</td>\n",
       "      <td>9</td>\n",
       "      <td>Foreign</td>\n",
       "      <td>6</td>\n",
       "      <td>3</td>\n",
       "      <td>Behind the Scenes</td>\n",
       "    </tr>\n",
       "    <tr>\n",
       "      <th>1</th>\n",
       "      <td>14009</td>\n",
       "      <td>2</td>\n",
       "      <td>3004</td>\n",
       "      <td>382</td>\n",
       "      <td>659</td>\n",
       "      <td>2</td>\n",
       "      <td>1</td>\n",
       "      <td>Action</td>\n",
       "      <td>3</td>\n",
       "      <td>3</td>\n",
       "      <td>Trailers,Deleted Scenes</td>\n",
       "    </tr>\n",
       "    <tr>\n",
       "      <th>2</th>\n",
       "      <td>13535</td>\n",
       "      <td>2</td>\n",
       "      <td>1563</td>\n",
       "      <td>86</td>\n",
       "      <td>343</td>\n",
       "      <td>1</td>\n",
       "      <td>3</td>\n",
       "      <td>Children</td>\n",
       "      <td>6</td>\n",
       "      <td>2</td>\n",
       "      <td>Trailers,Deleted Scenes</td>\n",
       "    </tr>\n",
       "    <tr>\n",
       "      <th>3</th>\n",
       "      <td>11673</td>\n",
       "      <td>2</td>\n",
       "      <td>823</td>\n",
       "      <td>303</td>\n",
       "      <td>180</td>\n",
       "      <td>2</td>\n",
       "      <td>4</td>\n",
       "      <td>Classics</td>\n",
       "      <td>4</td>\n",
       "      <td>3</td>\n",
       "      <td>Trailers,Commentaries</td>\n",
       "    </tr>\n",
       "    <tr>\n",
       "      <th>4</th>\n",
       "      <td>12318</td>\n",
       "      <td>2</td>\n",
       "      <td>3694</td>\n",
       "      <td>332</td>\n",
       "      <td>808</td>\n",
       "      <td>2</td>\n",
       "      <td>4</td>\n",
       "      <td>Classics</td>\n",
       "      <td>5</td>\n",
       "      <td>4</td>\n",
       "      <td>Behind the Scenes</td>\n",
       "    </tr>\n",
       "  </tbody>\n",
       "</table>\n",
       "</div>"
      ],
      "text/plain": [
       "   Rental_ID  times_rented  INV_ID  Customer_id  film_id  store_id  \\\n",
       "0      14625             1    2661          507      584         1   \n",
       "1      14009             2    3004          382      659         2   \n",
       "2      13535             2    1563           86      343         1   \n",
       "3      11673             2     823          303      180         2   \n",
       "4      12318             2    3694          332      808         2   \n",
       "\n",
       "   category_id      name  rental_duration  rating         special_features  \n",
       "0            9   Foreign                6       3        Behind the Scenes  \n",
       "1            1    Action                3       3  Trailers,Deleted Scenes  \n",
       "2            3  Children                6       2  Trailers,Deleted Scenes  \n",
       "3            4  Classics                4       3    Trailers,Commentaries  \n",
       "4            4  Classics                5       4        Behind the Scenes  "
      ]
     },
     "execution_count": 30,
     "metadata": {},
     "output_type": "execute_result"
    }
   ],
   "source": [
    "df.head()"
   ]
  },
  {
   "cell_type": "code",
   "execution_count": 31,
   "metadata": {},
   "outputs": [
    {
     "data": {
      "text/html": [
       "<div>\n",
       "<style scoped>\n",
       "    .dataframe tbody tr th:only-of-type {\n",
       "        vertical-align: middle;\n",
       "    }\n",
       "\n",
       "    .dataframe tbody tr th {\n",
       "        vertical-align: top;\n",
       "    }\n",
       "\n",
       "    .dataframe thead th {\n",
       "        text-align: right;\n",
       "    }\n",
       "</style>\n",
       "<table border=\"1\" class=\"dataframe\">\n",
       "  <thead>\n",
       "    <tr style=\"text-align: right;\">\n",
       "      <th></th>\n",
       "      <th>Rental_ID</th>\n",
       "      <th>times_rented</th>\n",
       "      <th>INV_ID</th>\n",
       "      <th>Customer_id</th>\n",
       "      <th>film_id</th>\n",
       "      <th>store_id</th>\n",
       "      <th>category_id</th>\n",
       "      <th>name</th>\n",
       "      <th>rental_duration</th>\n",
       "      <th>rating</th>\n",
       "    </tr>\n",
       "  </thead>\n",
       "  <tbody>\n",
       "    <tr>\n",
       "      <th>0</th>\n",
       "      <td>14625</td>\n",
       "      <td>1</td>\n",
       "      <td>2661</td>\n",
       "      <td>507</td>\n",
       "      <td>584</td>\n",
       "      <td>1</td>\n",
       "      <td>9</td>\n",
       "      <td>Foreign</td>\n",
       "      <td>6</td>\n",
       "      <td>3</td>\n",
       "    </tr>\n",
       "    <tr>\n",
       "      <th>1</th>\n",
       "      <td>14009</td>\n",
       "      <td>2</td>\n",
       "      <td>3004</td>\n",
       "      <td>382</td>\n",
       "      <td>659</td>\n",
       "      <td>2</td>\n",
       "      <td>1</td>\n",
       "      <td>Action</td>\n",
       "      <td>3</td>\n",
       "      <td>3</td>\n",
       "    </tr>\n",
       "    <tr>\n",
       "      <th>2</th>\n",
       "      <td>13535</td>\n",
       "      <td>2</td>\n",
       "      <td>1563</td>\n",
       "      <td>86</td>\n",
       "      <td>343</td>\n",
       "      <td>1</td>\n",
       "      <td>3</td>\n",
       "      <td>Children</td>\n",
       "      <td>6</td>\n",
       "      <td>2</td>\n",
       "    </tr>\n",
       "    <tr>\n",
       "      <th>3</th>\n",
       "      <td>11673</td>\n",
       "      <td>2</td>\n",
       "      <td>823</td>\n",
       "      <td>303</td>\n",
       "      <td>180</td>\n",
       "      <td>2</td>\n",
       "      <td>4</td>\n",
       "      <td>Classics</td>\n",
       "      <td>4</td>\n",
       "      <td>3</td>\n",
       "    </tr>\n",
       "    <tr>\n",
       "      <th>4</th>\n",
       "      <td>12318</td>\n",
       "      <td>2</td>\n",
       "      <td>3694</td>\n",
       "      <td>332</td>\n",
       "      <td>808</td>\n",
       "      <td>2</td>\n",
       "      <td>4</td>\n",
       "      <td>Classics</td>\n",
       "      <td>5</td>\n",
       "      <td>4</td>\n",
       "    </tr>\n",
       "  </tbody>\n",
       "</table>\n",
       "</div>"
      ],
      "text/plain": [
       "   Rental_ID  times_rented  INV_ID  Customer_id  film_id  store_id  \\\n",
       "0      14625             1    2661          507      584         1   \n",
       "1      14009             2    3004          382      659         2   \n",
       "2      13535             2    1563           86      343         1   \n",
       "3      11673             2     823          303      180         2   \n",
       "4      12318             2    3694          332      808         2   \n",
       "\n",
       "   category_id      name  rental_duration  rating  \n",
       "0            9   Foreign                6       3  \n",
       "1            1    Action                3       3  \n",
       "2            3  Children                6       2  \n",
       "3            4  Classics                4       3  \n",
       "4            4  Classics                5       4  "
      ]
     },
     "execution_count": 31,
     "metadata": {},
     "output_type": "execute_result"
    }
   ],
   "source": [
    "df = df.drop('special_features', axis=1)\n",
    "df.head()"
   ]
  },
  {
   "cell_type": "code",
   "execution_count": 32,
   "metadata": {},
   "outputs": [
    {
     "data": {
      "text/html": [
       "<div>\n",
       "<style scoped>\n",
       "    .dataframe tbody tr th:only-of-type {\n",
       "        vertical-align: middle;\n",
       "    }\n",
       "\n",
       "    .dataframe tbody tr th {\n",
       "        vertical-align: top;\n",
       "    }\n",
       "\n",
       "    .dataframe thead th {\n",
       "        text-align: right;\n",
       "    }\n",
       "</style>\n",
       "<table border=\"1\" class=\"dataframe\">\n",
       "  <thead>\n",
       "    <tr style=\"text-align: right;\">\n",
       "      <th></th>\n",
       "      <th>Rental_ID</th>\n",
       "      <th>times_rented</th>\n",
       "      <th>INV_ID</th>\n",
       "      <th>Customer_id</th>\n",
       "      <th>film_id</th>\n",
       "      <th>store_id</th>\n",
       "      <th>category_id</th>\n",
       "      <th>rental_duration</th>\n",
       "      <th>rating</th>\n",
       "    </tr>\n",
       "  </thead>\n",
       "  <tbody>\n",
       "    <tr>\n",
       "      <th>0</th>\n",
       "      <td>14625</td>\n",
       "      <td>1</td>\n",
       "      <td>2661</td>\n",
       "      <td>507</td>\n",
       "      <td>584</td>\n",
       "      <td>1</td>\n",
       "      <td>9</td>\n",
       "      <td>6</td>\n",
       "      <td>3</td>\n",
       "    </tr>\n",
       "    <tr>\n",
       "      <th>1</th>\n",
       "      <td>14009</td>\n",
       "      <td>2</td>\n",
       "      <td>3004</td>\n",
       "      <td>382</td>\n",
       "      <td>659</td>\n",
       "      <td>2</td>\n",
       "      <td>1</td>\n",
       "      <td>3</td>\n",
       "      <td>3</td>\n",
       "    </tr>\n",
       "    <tr>\n",
       "      <th>2</th>\n",
       "      <td>13535</td>\n",
       "      <td>2</td>\n",
       "      <td>1563</td>\n",
       "      <td>86</td>\n",
       "      <td>343</td>\n",
       "      <td>1</td>\n",
       "      <td>3</td>\n",
       "      <td>6</td>\n",
       "      <td>2</td>\n",
       "    </tr>\n",
       "    <tr>\n",
       "      <th>3</th>\n",
       "      <td>11673</td>\n",
       "      <td>2</td>\n",
       "      <td>823</td>\n",
       "      <td>303</td>\n",
       "      <td>180</td>\n",
       "      <td>2</td>\n",
       "      <td>4</td>\n",
       "      <td>4</td>\n",
       "      <td>3</td>\n",
       "    </tr>\n",
       "    <tr>\n",
       "      <th>4</th>\n",
       "      <td>12318</td>\n",
       "      <td>2</td>\n",
       "      <td>3694</td>\n",
       "      <td>332</td>\n",
       "      <td>808</td>\n",
       "      <td>2</td>\n",
       "      <td>4</td>\n",
       "      <td>5</td>\n",
       "      <td>4</td>\n",
       "    </tr>\n",
       "  </tbody>\n",
       "</table>\n",
       "</div>"
      ],
      "text/plain": [
       "   Rental_ID  times_rented  INV_ID  Customer_id  film_id  store_id  \\\n",
       "0      14625             1    2661          507      584         1   \n",
       "1      14009             2    3004          382      659         2   \n",
       "2      13535             2    1563           86      343         1   \n",
       "3      11673             2     823          303      180         2   \n",
       "4      12318             2    3694          332      808         2   \n",
       "\n",
       "   category_id  rental_duration  rating  \n",
       "0            9                6       3  \n",
       "1            1                3       3  \n",
       "2            3                6       2  \n",
       "3            4                4       3  \n",
       "4            4                5       4  "
      ]
     },
     "execution_count": 32,
     "metadata": {},
     "output_type": "execute_result"
    }
   ],
   "source": [
    "df = df.drop('name', axis=1)\n",
    "df.head()"
   ]
  },
  {
   "cell_type": "code",
   "execution_count": 33,
   "metadata": {
    "scrolled": true
   },
   "outputs": [
    {
     "data": {
      "image/png": "[encoded data removed]",
      "text/plain": [
       "<Figure size 720x576 with 2 Axes>"
      ]
     },
     "metadata": {
      "needs_background": "light"
     },
     "output_type": "display_data"
    }
   ],
   "source": [
    "# Checking for correlation \n",
    "\n",
    "corr_matrix = df.corr(method='pearson')\n",
    "fig, ax = plt.subplots(figsize=(10, 8))\n",
    "ax = sns.heatmap(corr_matrix, annot=True)\n",
    "plt.show()"
   ]
  },
  {
   "cell_type": "code",
   "execution_count": 34,
   "metadata": {},
   "outputs": [],
   "source": [
    "y = df['times_rented']\n",
    "x = df.drop(['times_rented'], axis = 1)"
   ]
  },
  {
   "cell_type": "code",
   "execution_count": 35,
   "metadata": {
    "scrolled": false
   },
   "outputs": [
    {
     "data": {
      "text/html": [
       "<div>\n",
       "<style scoped>\n",
       "    .dataframe tbody tr th:only-of-type {\n",
       "        vertical-align: middle;\n",
       "    }\n",
       "\n",
       "    .dataframe tbody tr th {\n",
       "        vertical-align: top;\n",
       "    }\n",
       "\n",
       "    .dataframe thead th {\n",
       "        text-align: right;\n",
       "    }\n",
       "</style>\n",
       "<table border=\"1\" class=\"dataframe\">\n",
       "  <thead>\n",
       "    <tr style=\"text-align: right;\">\n",
       "      <th></th>\n",
       "      <th>Rental_ID</th>\n",
       "      <th>INV_ID</th>\n",
       "      <th>Customer_id</th>\n",
       "      <th>film_id</th>\n",
       "      <th>store_id</th>\n",
       "      <th>category_id</th>\n",
       "      <th>rental_duration</th>\n",
       "      <th>rating</th>\n",
       "    </tr>\n",
       "  </thead>\n",
       "  <tbody>\n",
       "    <tr>\n",
       "      <th>0</th>\n",
       "      <td>14625</td>\n",
       "      <td>2661</td>\n",
       "      <td>507</td>\n",
       "      <td>584</td>\n",
       "      <td>1</td>\n",
       "      <td>9</td>\n",
       "      <td>6</td>\n",
       "      <td>3</td>\n",
       "    </tr>\n",
       "    <tr>\n",
       "      <th>1</th>\n",
       "      <td>14009</td>\n",
       "      <td>3004</td>\n",
       "      <td>382</td>\n",
       "      <td>659</td>\n",
       "      <td>2</td>\n",
       "      <td>1</td>\n",
       "      <td>3</td>\n",
       "      <td>3</td>\n",
       "    </tr>\n",
       "    <tr>\n",
       "      <th>2</th>\n",
       "      <td>13535</td>\n",
       "      <td>1563</td>\n",
       "      <td>86</td>\n",
       "      <td>343</td>\n",
       "      <td>1</td>\n",
       "      <td>3</td>\n",
       "      <td>6</td>\n",
       "      <td>2</td>\n",
       "    </tr>\n",
       "    <tr>\n",
       "      <th>3</th>\n",
       "      <td>11673</td>\n",
       "      <td>823</td>\n",
       "      <td>303</td>\n",
       "      <td>180</td>\n",
       "      <td>2</td>\n",
       "      <td>4</td>\n",
       "      <td>4</td>\n",
       "      <td>3</td>\n",
       "    </tr>\n",
       "    <tr>\n",
       "      <th>4</th>\n",
       "      <td>12318</td>\n",
       "      <td>3694</td>\n",
       "      <td>332</td>\n",
       "      <td>808</td>\n",
       "      <td>2</td>\n",
       "      <td>4</td>\n",
       "      <td>5</td>\n",
       "      <td>4</td>\n",
       "    </tr>\n",
       "  </tbody>\n",
       "</table>\n",
       "</div>"
      ],
      "text/plain": [
       "   Rental_ID  INV_ID  Customer_id  film_id  store_id  category_id  \\\n",
       "0      14625    2661          507      584         1            9   \n",
       "1      14009    3004          382      659         2            1   \n",
       "2      13535    1563           86      343         1            3   \n",
       "3      11673     823          303      180         2            4   \n",
       "4      12318    3694          332      808         2            4   \n",
       "\n",
       "   rental_duration  rating  \n",
       "0                6       3  \n",
       "1                3       3  \n",
       "2                6       2  \n",
       "3                4       3  \n",
       "4                5       4  "
      ]
     },
     "execution_count": 35,
     "metadata": {},
     "output_type": "execute_result"
    }
   ],
   "source": [
    "x.head()"
   ]
  },
  {
   "cell_type": "code",
   "execution_count": 44,
   "metadata": {},
   "outputs": [],
   "source": [
    "from sklearn.preprocessing import StandardScaler\n",
    "from sklearn.linear_model import LogisticRegression\n",
    "\n",
    "scaled_x = StandardScaler().fit_transform(x)"
   ]
  },
  {
   "cell_type": "code",
   "execution_count": 45,
   "metadata": {},
   "outputs": [],
   "source": [
    "from sklearn.model_selection import train_test_split\n",
    "x_train, x_test, y_train, y_test = train_test_split(x, y, test_size=0.4, random_state=100)"
   ]
  },
  {
   "cell_type": "code",
   "execution_count": 49,
   "metadata": {},
   "outputs": [],
   "source": [
    "from sklearn.linear_model import LogisticRegression\n",
    "classification = LogisticRegression(random_state=0, solver='lbfgs',\n",
    "                  multi_class='ovr').fit(scaled_x, y)"
   ]
  },
  {
   "cell_type": "code",
   "execution_count": 51,
   "metadata": {},
   "outputs": [
    {
     "data": {
      "text/plain": [
       "0.18162839248434237"
      ]
     },
     "execution_count": 51,
     "metadata": {},
     "output_type": "execute_result"
    }
   ],
   "source": [
    "prediction = classification.predict(x_test)\n",
    "classification.score(scaled_x, y)"
   ]
  },
  {
   "cell_type": "code",
   "execution_count": 55,
   "metadata": {},
   "outputs": [
    {
     "data": {
      "text/plain": [
       "array([[11, 40, 39, 42, 36, 48, 41, 47, 31, 23, 13, 10,  1,  2],\n",
       "       [ 0,  0,  0,  0,  0,  0,  0,  0,  0,  0,  0,  0,  0,  0],\n",
       "       [ 0,  0,  0,  0,  0,  0,  0,  0,  0,  0,  0,  0,  0,  0],\n",
       "       [ 0,  0,  0,  0,  0,  0,  0,  0,  0,  0,  0,  0,  0,  0],\n",
       "       [ 0,  0,  0,  0,  0,  0,  0,  0,  0,  0,  0,  0,  0,  0],\n",
       "       [ 0,  0,  0,  0,  0,  0,  0,  0,  0,  0,  0,  0,  0,  0],\n",
       "       [ 0,  0,  0,  0,  0,  0,  0,  0,  0,  0,  0,  0,  0,  0],\n",
       "       [ 0,  0,  0,  0,  0,  0,  0,  0,  0,  0,  0,  0,  0,  0],\n",
       "       [ 0,  0,  0,  0,  0,  0,  0,  0,  0,  0,  0,  0,  0,  0],\n",
       "       [ 0,  0,  0,  0,  0,  0,  0,  0,  0,  0,  0,  0,  0,  0],\n",
       "       [ 0,  0,  0,  0,  0,  0,  0,  0,  0,  0,  0,  0,  0,  0],\n",
       "       [ 0,  0,  0,  0,  0,  0,  0,  0,  0,  0,  0,  0,  0,  0],\n",
       "       [ 0,  0,  0,  0,  0,  0,  0,  0,  0,  0,  0,  0,  0,  0],\n",
       "       [ 0,  0,  0,  0,  0,  0,  0,  0,  0,  0,  0,  0,  0,  0]],\n",
       "      dtype=int64)"
      ]
     },
     "execution_count": 55,
     "metadata": {},
     "output_type": "execute_result"
    }
   ],
   "source": [
    "from sklearn.metrics import confusion_matrix\n",
    "y_pred = classification.predict(scaled_x)\n",
    "confusion_matrix(prediction, y_test)"
   ]
  },
  {
   "cell_type": "code",
   "execution_count": null,
   "metadata": {},
   "outputs": [],
   "source": []
  }
 ],
 "metadata": {
  "kernelspec": {
   "display_name": "Python 3",
   "language": "python",
   "name": "python3"
  },
  "language_info": {
   "codemirror_mode": {
    "name": "ipython",
    "version": 3
   },
   "file_extension": ".py",
   "mimetype": "text/x-python",
   "name": "python",
   "nbconvert_exporter": "python",
   "pygments_lexer": "ipython3",
   "version": "3.8.5"
  }
 },
 "nbformat": 4,
 "nbformat_minor": 4
}
